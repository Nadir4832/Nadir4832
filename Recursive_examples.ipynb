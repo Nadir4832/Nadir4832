{
  "nbformat": 4,
  "nbformat_minor": 0,
  "metadata": {
    "colab": {
      "name": "Recursive examples",
      "provenance": [],
      "collapsed_sections": [],
      "toc_visible": true,
      "include_colab_link": true
    },
    "kernelspec": {
      "display_name": "Python 3",
      "name": "python3"
    }
  },
  "cells": [
    {
      "cell_type": "markdown",
      "metadata": {
        "id": "view-in-github",
        "colab_type": "text"
      },
      "source": [
        "<a href=\"https://colab.research.google.com/github/Nadir4832/Nadir4832/blob/main/Recursive_examples.ipynb\" target=\"_parent\"><img src=\"https://colab.research.google.com/assets/colab-badge.svg\" alt=\"Open In Colab\"/></a>"
      ]
    },
    {
      "cell_type": "code",
      "metadata": {
        "id": "3ZGkrJqKGGCR"
      },
      "source": [
        "def tribonacci(n, memo = {}):\n",
        "  \n",
        "\n",
        "          # check if the fib value of n was calculated\n",
        "          if n  in memo:\n",
        "            return memo[n]\n",
        "          # base cases\n",
        "          if n == 0:\n",
        "            return 0\n",
        "          if n == 1:\n",
        "            return 1\n",
        "          \n",
        "          memo[n] = tribonacci(n - 1, memo) + tribonacci(n - 2, memo) \n",
        "          return memo[n]\n",
        "\n",
        "\n"
      ],
      "execution_count": 1,
      "outputs": []
    },
    {
      "cell_type": "code",
      "metadata": {
        "id": "3L8kDfejVxVf"
      },
      "source": [
        "import time"
      ],
      "execution_count": 2,
      "outputs": []
    },
    {
      "cell_type": "code",
      "metadata": {
        "id": "FbBSaogPG_NP",
        "colab": {
          "base_uri": "https://localhost:8080/"
        },
        "outputId": "d1ba90d6-6617-40c7-83c1-4995273e0012"
      },
      "source": [
        "tribonacci(46)"
      ],
      "execution_count": 3,
      "outputs": [
        {
          "output_type": "execute_result",
          "data": {
            "text/plain": [
              "1836311903"
            ]
          },
          "metadata": {},
          "execution_count": 3
        }
      ]
    },
    {
      "cell_type": "code",
      "metadata": {
        "id": "EX5oxzkuOcPS"
      },
      "source": [
        "def sum_possible(amount, numbers, memo = {}):\n",
        "  # print(f'amount = {amount}')\n",
        "  if amount in memo:\n",
        "    return memo[amount]\n",
        "  # base cases\n",
        "  if amount < 0:\n",
        "    return False\n",
        "  if amount == 0:\n",
        "    return True\n",
        "  \n",
        "  for number in numbers:\n",
        "    if amount - number >= 0 :\n",
        "      # print(f'differnce = {number}')\n",
        "      if( sum_possible(amount - number, numbers, memo)):\n",
        "        memo[amount] = True\n",
        "        return True\n",
        "        \n",
        "  memo[amount] = False\n",
        "  return False\n",
        "    \n"
      ],
      "execution_count": 4,
      "outputs": []
    },
    {
      "cell_type": "code",
      "metadata": {
        "id": "hQJ8w6HHchDu"
      },
      "source": [
        "def min_change(amount, coins):\n",
        "  ans = _min_change(amount, coins, {})\n",
        "  if ans == float('inf'):\n",
        "    return -1\n",
        "  else:\n",
        "    return ans\n",
        "\n",
        "def _min_change(amount, coins, memo):\n",
        "  if amount in memo:\n",
        "    return memo[amount]\n",
        "  \n",
        "  if amount == 0:\n",
        "    return 0\n",
        "  \n",
        "  if amount < 0:\n",
        "    return float('inf')\n",
        "  \n",
        "  min_coins = float('inf')\n",
        "  for coin in coins:\n",
        "    num_coins = 1 + _min_change(amount - coin, coins, memo)\n",
        "    min_coins = min(min_coins, num_coins)\n",
        "    \n",
        "  memo[amount] = min_coins\n",
        "  return min_coins"
      ],
      "execution_count": 5,
      "outputs": []
    },
    {
      "cell_type": "code",
      "metadata": {
        "id": "z-RdM7S-cZV3",
        "colab": {
          "base_uri": "https://localhost:8080/"
        },
        "outputId": "d8f13408-09a8-4713-9014-ae9542718e38"
      },
      "source": [
        "min_change(2017, [4, 2, 10]) # -> -1"
      ],
      "execution_count": 6,
      "outputs": [
        {
          "output_type": "execute_result",
          "data": {
            "text/plain": [
              "-1"
            ]
          },
          "metadata": {},
          "execution_count": 6
        }
      ]
    },
    {
      "cell_type": "code",
      "metadata": {
        "id": "Xjwer3bTdatB",
        "colab": {
          "base_uri": "https://localhost:8080/"
        },
        "outputId": "6f32dabb-88fd-412d-dedf-ff7896a5f6c7"
      },
      "source": [
        "min_change(200, [1, 5, 10, 25]) # -> 8"
      ],
      "execution_count": 7,
      "outputs": [
        {
          "output_type": "execute_result",
          "data": {
            "text/plain": [
              "8"
            ]
          },
          "metadata": {},
          "execution_count": 7
        }
      ]
    },
    {
      "cell_type": "markdown",
      "metadata": {
        "id": "5BCLWUqWQ0M0"
      },
      "source": [
        "# LIS - Longest Increasng Subsequence Problem"
      ]
    },
    {
      "cell_type": "code",
      "metadata": {
        "id": "SYN-iuDaQx5_"
      },
      "source": [
        "LIS_Array = [3, 4, 4, 6, 8, 1] # -> 2 4 6 8 -> 4"
      ],
      "execution_count": 8,
      "outputs": []
    },
    {
      "cell_type": "code",
      "metadata": {
        "id": "iBVsmeZbRGcm"
      },
      "source": [
        "def lis(A):\n",
        "  l = len(A)\n",
        "  L = [1] * l\n",
        "  for i in range(1,l):\n",
        "    subproblems = [L[k] for k in range(i) if A[k] < A[i]]\n",
        "    L[i] = 1 + max(subproblems, default=0)\n",
        "  return max(L, default=0)"
      ],
      "execution_count": 11,
      "outputs": []
    },
    {
      "cell_type": "code",
      "metadata": {
        "colab": {
          "base_uri": "https://localhost:8080/"
        },
        "id": "Jvbc8XmySog4",
        "outputId": "5629ce62-27de-4a06-9eba-fa39218048c9"
      },
      "source": [
        "lis(LIS_Array)"
      ],
      "execution_count": 12,
      "outputs": [
        {
          "output_type": "execute_result",
          "data": {
            "text/plain": [
              "4"
            ]
          },
          "metadata": {},
          "execution_count": 12
        }
      ]
    },
    {
      "cell_type": "code",
      "metadata": {
        "id": "8e9WIjBWTDZY"
      },
      "source": [
        ""
      ],
      "execution_count": 10,
      "outputs": []
    }
  ]
}